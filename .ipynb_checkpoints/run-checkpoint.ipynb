{
 "cells": [
  {
   "cell_type": "code",
   "execution_count": 3,
   "id": "dae751d4-a330-46b7-adb0-9a8eb11c2d8e",
   "metadata": {},
   "outputs": [],
   "source": [
    "import torch\n",
    "import torch.nn.functional as F\n",
    "from torcheval.metrics import MulticlassAccuracy\n",
    "from torch import optim\n",
    "from torch.optim import lr_scheduler\n",
    "from torch import nn\n",
    "from torch.nn import Module\n",
    "\n",
    "from utils.dataset import load_dataset\n",
    "from callbacks.base import *\n",
    "from fastprogress.fastprogress import master_bar, progress_bar\n",
    "from nn.modules.base import mlp, conv\n",
    "from loss.losses import VAELoss, DDPMLoss\n",
    "from models.VAE.MLPModel import VAEModel\n",
    "from models.ddpm import DDPM\n",
    "from models.VAE.ConvModel import VAEConvModel\n",
    "from models.VAE.VAETrainer import VAETrainer\n",
    "from models.DDPMTrainer import DDPMTrainer\n",
    "from torchsummary import summary\n",
    "from trainer import Trainer\n"
   ]
  },
  {
   "cell_type": "code",
   "execution_count": 4,
   "id": "b12354d4-95dd-45f2-ba92-318f78e7dae4",
   "metadata": {},
   "outputs": [],
   "source": [
    "#train_dl, valid_dl , test_dl = load_dataset(dataset_path='C:\\\\Users\\\\bmoha\\\\Work\\\\tutorials\\\\train_data', batch_size=128)"
   ]
  },
  {
   "cell_type": "markdown",
   "id": "d5bba5aa-45f8-43f3-be04-87b28262a0c1",
   "metadata": {},
   "source": [
    "## VAE Linear Network"
   ]
  },
  {
   "cell_type": "code",
   "execution_count": 3,
   "id": "43b0b8ce-b8cc-4e55-8193-4ca04a511934",
   "metadata": {},
   "outputs": [],
   "source": [
    "# epochs = 5\n",
    "# batch_size = 2\n",
    "# max_learning_rate = 0.001 # Scheduler\n",
    "# encoder_units = [512, 256, 128, 64]\n",
    "# decoder_units = [64, 128, 256, 512]\n",
    "# metric = MetricCallback()\n",
    "# vae_loss = VAELoss(batch_size)\n",
    "# model = VAEModel(\n",
    "#     784,\n",
    "#     encoder_units,\n",
    "#     decoder_units,\n",
    "#     2,\n",
    "#     28,\n",
    "#     28,\n",
    "#     'SiLU'\n",
    "# )\n",
    "# optimizer = optim.AdamW(model.parameters(), 0.001)\n",
    "# lr_sched = lr_scheduler.OneCycleLR(optimizer, max_learning_rate, (epochs * len(train_dl)))\n",
    "# callbacks = [DeviceCallback(),  LRSchedulerCallback(lr_sched), metric, ProgressCallback(plot=True)]\n",
    "# trainer = VAETrainer(model=model, \n",
    "#                   train_dl=valid_dl, \n",
    "#                   valid_dl=test_dl,\n",
    "#                   test_dl = test_dl,\n",
    "#                   loss_fn= vae_loss,\n",
    "#                   optim_fn=optimizer,\n",
    "#                   batch_size = batch_size,\n",
    "#                   callbacks=callbacks)\n",
    "# trainer.fit(epochs)"
   ]
  },
  {
   "cell_type": "code",
   "execution_count": 4,
   "id": "5447db0e-4f44-4b87-8802-970f4dd57652",
   "metadata": {},
   "outputs": [],
   "source": [
    "# trainer.load(\"./chkpts/test_load.pt\")\n",
    "# trainer.eval()\n",
    "# sample_z = torch.vstack(trainer.z)"
   ]
  },
  {
   "cell_type": "markdown",
   "id": "0eef9b46-d108-46da-9c00-267979a31331",
   "metadata": {},
   "source": [
    "## VAE Convolutional Network"
   ]
  },
  {
   "cell_type": "code",
   "execution_count": 5,
   "id": "a26166f9-8240-41c3-bea3-bf940c7eb0a1",
   "metadata": {},
   "outputs": [],
   "source": [
    "# epochs = 5\n",
    "# batch_size = 128\n",
    "# max_learning_rate = 0.001 # Scheduler\n",
    "# encoder_units = [32, 64, 128, 256] # Channels\n",
    "# decoder_units = [256, 128, 64, 32]\n",
    "# kernel_sizes = [3, 3, 3, 3]\n",
    "# strides = [2, 2, 2, 2]\n",
    "# paddings = [1, 1, 1, 1]\n",
    "# output_paddings = [1, 1, 1, 1]\n",
    "# metric = MetricCallback()\n",
    "# vae_loss = VAELoss(batch_size)\n",
    "# model = VAEConvModel(\n",
    "#     in_channel= 1,\n",
    "#     encoder_units = encoder_units,\n",
    "#     decoder_units = decoder_units,\n",
    "#     z_dim = 2,\n",
    "#     kernel_sizes = kernel_sizes,\n",
    "#     strides = strides,\n",
    "#     paddings = paddings,\n",
    "#     output_paddings = output_paddings,\n",
    "#     activation = 'LeakyReLU',\n",
    "#     norm = 'BatchNorm2d'\n",
    "    \n",
    "# )\n",
    "# optimizer = optim.AdamW(model.parameters(), 0.001)\n",
    "# lr_sched = lr_scheduler.OneCycleLR(optimizer, max_learning_rate, (epochs * len(train_dl)))\n",
    "# callbacks = [DeviceCallback(),  LRSchedulerCallback(lr_sched), metric, ProgressCallback(plot=True)]\n",
    "# trainer = VAETrainer(model=model, \n",
    "#                   train_dl=valid_dl, \n",
    "#                   valid_dl=test_dl,\n",
    "#                   test_dl = test_dl,\n",
    "#                   loss_fn= vae_loss,\n",
    "#                   optim_fn=optimizer,\n",
    "#                   batch_size = batch_size,\n",
    "#                   callbacks=callbacks)\n",
    "# trainer.fit(epochs)"
   ]
  },
  {
   "cell_type": "code",
   "execution_count": 6,
   "id": "379c2338-7865-4250-b273-d5237bbe2981",
   "metadata": {},
   "outputs": [],
   "source": [
    "#summary(model , (1, 28, 28))"
   ]
  },
  {
   "cell_type": "markdown",
   "id": "3b66759b-1587-4749-aac9-d660be4952ec",
   "metadata": {},
   "source": [
    "## DDPM Training"
   ]
  },
  {
   "cell_type": "code",
   "execution_count": null,
   "id": "2cb01cbc-5689-4c3c-a2dd-1367fac3e01a",
   "metadata": {},
   "outputs": [],
   "source": []
  },
  {
   "cell_type": "code",
   "execution_count": 7,
   "id": "e5ab3218-08b2-42b0-8440-3d9ae02d8dd3",
   "metadata": {},
   "outputs": [],
   "source": [
    "epochs = 5\n",
    "batch_size = 128\n",
    "max_learning_rate = 0.001 # Scheduler\n",
    "#metric = MetricCallback()\n",
    "ddpm = DDPM()\n",
    "ddpm_loss = DDPMLoss(batch_size)\n",
    "model = ddpm.model(in_channel=1)\n",
    "optimizer = optim.AdamW(model.parameters(), 0.001)\n",
    "lr_sched = lr_scheduler.OneCycleLR(optimizer, max_learning_rate, (epochs * len(train_dl)))\n",
    "callbacks = [DeviceCallback(),  LRSchedulerCallback(lr_sched), ProgressCallback(plot=True)]\n",
    "trainer = DDPMTrainer(ddpm,\n",
    "                  model=model, \n",
    "                  train_dl=valid_dl, \n",
    "                  valid_dl=test_dl,\n",
    "                  test_dl = test_dl,\n",
    "                  loss_fn= ddpm_loss,\n",
    "                  optim_fn=optimizer,\n",
    "                  batch_size = batch_size,\n",
    "                  callbacks=callbacks)\n",
    "#trainer.fit(epochs)"
   ]
  },
  {
   "cell_type": "code",
   "execution_count": 12,
   "id": "49f972bc-baa0-4842-952c-2484d864e320",
   "metadata": {},
   "outputs": [],
   "source": [
    "x = torch.randn(2, 1, 28, 28)\n",
    "timesteps = torch.randint(0, 1000, (2,))\n",
    "#summary(model, (x, timesteps)) "
   ]
  },
  {
   "cell_type": "code",
   "execution_count": 13,
   "id": "f5e6ea60-e854-492e-9471-8f2cff71cdfe",
   "metadata": {},
   "outputs": [],
   "source": [
    "#trainer.fit(epochs)"
   ]
  },
  {
   "cell_type": "code",
   "execution_count": null,
   "id": "413cfc86-e2c7-402a-a998-6cf39192f508",
   "metadata": {},
   "outputs": [],
   "source": []
  }
 ],
 "metadata": {
  "kernelspec": {
   "display_name": "torch-fastai",
   "language": "python",
   "name": "torch-fastai"
  },
  "language_info": {
   "codemirror_mode": {
    "name": "ipython",
    "version": 3
   },
   "file_extension": ".py",
   "mimetype": "text/x-python",
   "name": "python",
   "nbconvert_exporter": "python",
   "pygments_lexer": "ipython3",
   "version": "3.11.7"
  }
 },
 "nbformat": 4,
 "nbformat_minor": 5
}
